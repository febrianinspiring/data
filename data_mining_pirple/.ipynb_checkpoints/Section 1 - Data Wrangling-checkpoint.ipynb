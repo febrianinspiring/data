{
 "cells": [
  {
   "cell_type": "code",
   "execution_count": 1,
   "metadata": {},
   "outputs": [],
   "source": [
    "import pandas as pd\n",
    "import seaborn as sns\n",
    "import numpy as np\n",
    "import matplotlib.pyplot as plt\n",
    "\n",
    "%matplotlib widget"
   ]
  },
  {
   "cell_type": "code",
   "execution_count": 2,
   "metadata": {},
   "outputs": [
    {
     "name": "stdout",
     "output_type": "stream",
     "text": [
      "<class 'pandas.core.frame.DataFrame'>\n",
      "RangeIndex: 15000 entries, 0 to 14999\n",
      "Data columns (total 18 columns):\n",
      " #   Column           Non-Null Count  Dtype  \n",
      "---  ------           --------------  -----  \n",
      " 0   id               15000 non-null  int64  \n",
      " 1   address          15000 non-null  object \n",
      " 2   city             15000 non-null  object \n",
      " 3   state            15000 non-null  object \n",
      " 4   zipcode          15000 non-null  int64  \n",
      " 5   latitude         14985 non-null  float64\n",
      " 6   longitude        14985 non-null  float64\n",
      " 7   bedrooms         15000 non-null  int64  \n",
      " 8   bathrooms        15000 non-null  float64\n",
      " 9   rooms            15000 non-null  int64  \n",
      " 10  squareFootage    15000 non-null  int64  \n",
      " 11  lotSize          15000 non-null  int64  \n",
      " 12  yearBuilt        14999 non-null  float64\n",
      " 13  lastSaleDate     15000 non-null  object \n",
      " 14  lastSaleAmount   15000 non-null  int64  \n",
      " 15  priorSaleDate    11173 non-null  object \n",
      " 16  priorSaleAmount  11287 non-null  float64\n",
      " 17  estimated_value  15000 non-null  int64  \n",
      "dtypes: float64(5), int64(8), object(5)\n",
      "memory usage: 2.1+ MB\n"
     ]
    }
   ],
   "source": [
    "df = pd.read_csv('single_family_home_values.csv')\n",
    "df.info()"
   ]
  },
  {
   "cell_type": "code",
   "execution_count": 3,
   "metadata": {},
   "outputs": [
    {
     "data": {
      "text/plain": [
       "estimated_value    1.000000\n",
       "squareFootage      0.819406\n",
       "bathrooms          0.716293\n",
       "priorSaleAmount    0.590536\n",
       "lastSaleAmount     0.579754\n",
       "rooms              0.575589\n",
       "lotSize            0.427097\n",
       "bedrooms           0.356777\n",
       "yearBuilt          0.190995\n",
       "id                 0.116603\n",
       "longitude          0.115045\n",
       "zipcode            0.084225\n",
       "latitude          -0.272241\n",
       "Name: estimated_value, dtype: float64"
      ]
     },
     "execution_count": 3,
     "metadata": {},
     "output_type": "execute_result"
    }
   ],
   "source": [
    "df_fillna = df.fillna(df.mean())\n",
    "df_dropna = df_fillna.dropna()\n",
    "df_dropna.corr().loc['estimated_value', :].sort_values(ascending = False)"
   ]
  },
  {
   "cell_type": "code",
   "execution_count": 13,
   "metadata": {},
   "outputs": [
    {
     "name": "stderr",
     "output_type": "stream",
     "text": [
      "C:\\Users\\febrian-inspiring\\miniconda3\\lib\\site-packages\\seaborn\\_decorators.py:36: FutureWarning: Pass the following variable as a keyword arg: x. From version 0.12, the only valid positional argument will be `data`, and passing other arguments without an explicit keyword will result in an error or misinterpretation.\n",
      "  warnings.warn(\n"
     ]
    },
    {
     "data": {
      "application/vnd.jupyter.widget-view+json": {
       "model_id": "ff038c190478489b8eb28be21f933ba0",
       "version_major": 2,
       "version_minor": 0
      },
      "text/plain": [
       "Canvas(toolbar=Toolbar(toolitems=[('Home', 'Reset original view', 'home', 'home'), ('Back', 'Back to previous …"
      ]
     },
     "metadata": {},
     "output_type": "display_data"
    },
    {
     "data": {
      "text/plain": [
       "<AxesSubplot:xlabel='estimated_value'>"
      ]
     },
     "execution_count": 13,
     "metadata": {},
     "output_type": "execute_result"
    }
   ],
   "source": [
    "%matplotlib widget\n",
    "sns.boxplot(df_dropna.estimated_value)"
   ]
  },
  {
   "cell_type": "code",
   "execution_count": 5,
   "metadata": {},
   "outputs": [
    {
     "name": "stderr",
     "output_type": "stream",
     "text": [
      "C:\\Users\\febrian-inspiring\\miniconda3\\lib\\site-packages\\seaborn\\_decorators.py:36: FutureWarning: Pass the following variable as a keyword arg: x. From version 0.12, the only valid positional argument will be `data`, and passing other arguments without an explicit keyword will result in an error or misinterpretation.\n",
      "  warnings.warn(\n"
     ]
    },
    {
     "data": {
      "application/vnd.jupyter.widget-view+json": {
       "model_id": "153d4630e64648dbbabe817d43cac49a",
       "version_major": 2,
       "version_minor": 0
      },
      "text/plain": [
       "Canvas(toolbar=Toolbar(toolitems=[('Home', 'Reset original view', 'home', 'home'), ('Back', 'Back to previous …"
      ]
     },
     "metadata": {},
     "output_type": "display_data"
    },
    {
     "data": {
      "text/plain": [
       "<AxesSubplot:xlabel='estimated_value'>"
      ]
     },
     "execution_count": 5,
     "metadata": {},
     "output_type": "execute_result"
    }
   ],
   "source": [
    "%matplotlib widget\n",
    "df_filter = df_dropna[df_dropna.estimated_value <= 1000000]\n",
    "sns.boxplot(df_filter.estimated_value)"
   ]
  },
  {
   "cell_type": "code",
   "execution_count": 6,
   "metadata": {},
   "outputs": [],
   "source": [
    "# df_filter.estimated_value.hist()\n",
    "# df_filter[(df_filter.estimated_value<=900000) & (df_filter.yearBuilt>2013) & (df_filter.zipcode==80209)]"
   ]
  },
  {
   "cell_type": "code",
   "execution_count": 7,
   "metadata": {},
   "outputs": [],
   "source": [
    "# sns.pairplot(df_filter[['lastSaleAmount', 'estimated_value', 'zipcode']], hue = 'zipcode')"
   ]
  },
  {
   "cell_type": "code",
   "execution_count": 8,
   "metadata": {},
   "outputs": [],
   "source": [
    "# %matplotlib widget\n",
    "# sns.stripplot(x=df_filter.zipcode, y=df_filter.estimated_value)"
   ]
  },
  {
   "cell_type": "code",
   "execution_count": 9,
   "metadata": {},
   "outputs": [],
   "source": [
    "# %matplotlib widget\n",
    "# sns.violinplot(x=df_filter.zipcode, y=df_filter.estimated_value)"
   ]
  },
  {
   "cell_type": "code",
   "execution_count": 10,
   "metadata": {},
   "outputs": [],
   "source": [
    "# df_filter['priorSaleDate'] = pd.to_datetime(df_filter.priorSaleDate)\n",
    "# df_filter['lastSaleDate'] = pd.to_datetime(df_filter.lastSaleDate)\n",
    "# df_filter['new_col'] = 1\n",
    "# df_filter['weekday_lastSaleDate'] = df_filter.lastSaleDate.dt.weekday\n",
    "# df_filter['year_lastSaleDate'] = df_filter.lastSaleDate.dt.year\n",
    "# df_filter['weekday_priorSaleDate'] = df_filter.priorSaleDate.dt.weekday\n",
    "# df_filter['year_priorSaleDate'] = df_filter.priorSaleDate.dt.year\n",
    "# df_filter['year_between_last_sales'] = df_filter['year_lastSaleDate'] - df_filter['year_priorSaleDate']"
   ]
  },
  {
   "cell_type": "code",
   "execution_count": 11,
   "metadata": {},
   "outputs": [],
   "source": [
    "# %matplotlib widget\n",
    "# df_lastSale = df_filter.lastSaleDate.dt.year.value_counts()\n",
    "# # df_filter.info()\n",
    "# plt.figure(figsize=(8,4))\n",
    "# sns.barplot(x=df_lastSale.index, y=df_lastSale.values)\n",
    "# plt.tight_layout()\n",
    "# plt.show()\n",
    "\n",
    "# df_priorSale = df_filter.priorSaleDate.dt.year.value_counts()\n",
    "# # df_filter.info()\n",
    "# plt.figure(figsize=(8,4))\n",
    "# sns.barplot(x=df_priorSale.index, y=df_priorSale.values)\n",
    "# plt.tight_layout()\n",
    "# plt.show()"
   ]
  },
  {
   "cell_type": "code",
   "execution_count": 12,
   "metadata": {},
   "outputs": [
    {
     "data": {
      "text/plain": [
       "estimated_value    1.000000\n",
       "squareFootage      0.687339\n",
       "bathrooms          0.648815\n",
       "rooms              0.578508\n",
       "priorSaleAmount    0.562748\n",
       "bedrooms           0.357397\n",
       "lastSaleAmount     0.259815\n",
       "longitude          0.234439\n",
       "id                 0.150506\n",
       "zipcode            0.109753\n",
       "lotSize           -0.069571\n",
       "latitude          -0.199943\n",
       "yearBuilt         -0.254263\n",
       "Name: estimated_value, dtype: float64"
      ]
     },
     "execution_count": 12,
     "metadata": {},
     "output_type": "execute_result"
    }
   ],
   "source": [
    "df_filter.corr().loc['estimated_value', :].sort_values(ascending=False)\n",
    "# df_filter.info()"
   ]
  },
  {
   "cell_type": "code",
   "execution_count": null,
   "metadata": {},
   "outputs": [],
   "source": []
  }
 ],
 "metadata": {
  "kernelspec": {
   "display_name": "Python 3",
   "language": "python",
   "name": "python3"
  },
  "language_info": {
   "codemirror_mode": {
    "name": "ipython",
    "version": 3
   },
   "file_extension": ".py",
   "mimetype": "text/x-python",
   "name": "python",
   "nbconvert_exporter": "python",
   "pygments_lexer": "ipython3",
   "version": "3.8.6"
  }
 },
 "nbformat": 4,
 "nbformat_minor": 4
}
