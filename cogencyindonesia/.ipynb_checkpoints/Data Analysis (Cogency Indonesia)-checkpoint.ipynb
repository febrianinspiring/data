{
 "cells": [
  {
   "cell_type": "code",
   "execution_count": 1,
   "metadata": {},
   "outputs": [],
   "source": [
    "import pandas as pd"
   ]
  },
  {
   "cell_type": "code",
   "execution_count": 2,
   "metadata": {},
   "outputs": [],
   "source": [
    "data = pd.read_excel(\"Cases.xlsx\")"
   ]
  },
  {
   "cell_type": "code",
   "execution_count": 3,
   "metadata": {},
   "outputs": [],
   "source": [
    "trans_fb = data.iloc[3:23,:]\n",
    "payment = data.iloc[38:,:4]"
   ]
  },
  {
   "cell_type": "code",
   "execution_count": 4,
   "metadata": {},
   "outputs": [],
   "source": [
    "header_trans = data.iloc[2]\n",
    "header_pay = data.iloc[37,:4]\n",
    "header_trans = header_trans.to_list()\n",
    "header_pay = header_pay.to_list()\n",
    "trans_fb.columns = header_trans\n",
    "payment.columns = header_pay\n",
    "trans_fb = trans_fb.reset_index(drop=True)\n",
    "payment = payment.reset_index(drop=True)"
   ]
  },
  {
   "cell_type": "code",
   "execution_count": 17,
   "metadata": {},
   "outputs": [
    {
     "data": {
      "text/plain": [
       "user_id             Level_Member\n",
       "096f02ca-e8ef-11ea  Silver          2\n",
       "1fced709-886e-11ea  Non-Member      2\n",
       "4e11ab22-d23c-11ea  Silver          1\n",
       "5446a83f-d59f-11e8  Gold            4\n",
       "869c916b-d5a0-11e8  Gold            6\n",
       "894fd952-4f02-11e9  Silver          5\n",
       "93339b02-d5a3-11e8  Gold            3\n",
       "9714c114-2f6d-11ea  Silver          1\n",
       "a1cc0143-d59e-11e8  Gold            5\n",
       "bfe765aa-eda0-11ea  Silver          1\n",
       "c587baa6-21f8-11ea  Silver          1\n",
       "d8ed6799-d59c-11e8  Gold            4\n",
       "fbd28966-d5a1-11e8  Gold            2\n",
       "Name: quantity, dtype: int64"
      ]
     },
     "execution_count": 17,
     "metadata": {},
     "output_type": "execute_result"
    }
   ],
   "source": [
    "# trans_fb\n",
    "member = trans_fb['quantity'].groupby([trans_fb['user_id'], trans_fb['Level_Member']]).sum()"
   ]
  },
  {
   "cell_type": "code",
   "execution_count": null,
   "metadata": {},
   "outputs": [],
   "source": []
  }
 ],
 "metadata": {
  "kernelspec": {
   "display_name": "Python 3",
   "language": "python",
   "name": "python3"
  },
  "language_info": {
   "codemirror_mode": {
    "name": "ipython",
    "version": 3
   },
   "file_extension": ".py",
   "mimetype": "text/x-python",
   "name": "python",
   "nbconvert_exporter": "python",
   "pygments_lexer": "ipython3",
   "version": "3.7.4"
  }
 },
 "nbformat": 4,
 "nbformat_minor": 4
}
