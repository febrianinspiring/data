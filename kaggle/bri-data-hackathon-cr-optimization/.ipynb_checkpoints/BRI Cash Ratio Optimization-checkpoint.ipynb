{
 "cells": [
  {
   "cell_type": "code",
   "execution_count": 46,
   "metadata": {},
   "outputs": [],
   "source": [
    "import pandas as pd\n",
    "import statsmodels.api as sm\n",
    "from statsmodels.tsa.api import VAR\n",
    "from sklearn.metrics import mean_squared_log_error\n",
    "import math"
   ]
  },
  {
   "cell_type": "code",
   "execution_count": 77,
   "metadata": {},
   "outputs": [
    {
     "name": "stdout",
     "output_type": "stream",
     "text": [
      "<class 'pandas.core.frame.DataFrame'>\n",
      "RangeIndex: 425 entries, 0 to 424\n",
      "Data columns (total 13 columns):\n",
      " #   Column                      Non-Null Count  Dtype  \n",
      "---  ------                      --------------  -----  \n",
      " 0   periode                     425 non-null    object \n",
      " 1   cash_in_echannel            425 non-null    float64\n",
      " 2   cash_out_echannel           425 non-null    float64\n",
      " 3   cash_in_kantor              425 non-null    float64\n",
      " 4   cash_out_kantor             425 non-null    float64\n",
      " 5   cr_ketetapan_total_bkn_sum  425 non-null    float64\n",
      " 6   giro                        425 non-null    float64\n",
      " 7   deposito                    425 non-null    float64\n",
      " 8   kewajiban_lain              425 non-null    float64\n",
      " 9   tabungan                    425 non-null    float64\n",
      " 10  rata_dpk_mingguan           425 non-null    float64\n",
      " 11  kas_kantor                  425 non-null    float64\n",
      " 12  kas_echannel                425 non-null    float64\n",
      "dtypes: float64(12), object(1)\n",
      "memory usage: 43.3+ KB\n"
     ]
    }
   ],
   "source": [
    "data = pd.read_csv('train.csv')\n",
    "data.info()"
   ]
  },
  {
   "cell_type": "code",
   "execution_count": 99,
   "metadata": {},
   "outputs": [],
   "source": [
    "class forecast():\n",
    "    def __init__(self, data, column):\n",
    "        data_ = data[column]\n",
    "        print(data_.shape)\n",
    "        train = data_.iloc[:-31,:]\n",
    "        test = data_.iloc[-31:, :].reset_index()\n",
    "        test = test.drop(columns = ['index'])\n",
    "        print(X.shape, y.shape)\n",
    "        model = VAR(endog=train)\n",
    "        model_fit = model.fit()\n",
    "        self.pred = model_fit.forecast(model_fit.y, steps=31)\n",
    "        self.pred = pd.DataFrame(self.pred, columns = column)\n",
    "        self.error = math.sqrt(mean_squared_log_error(test.iloc[:, -1], self.pred.iloc[:, -1]))\n",
    "        print('RMSLE :', self.error)"
   ]
  },
  {
   "cell_type": "code",
   "execution_count": 101,
   "metadata": {},
   "outputs": [
    {
     "name": "stdout",
     "output_type": "stream",
     "text": [
      "(425, 3)\n",
      "(394, 3) (31, 3)\n",
      "RMSLE : 0.014684002988697263\n",
      "(425, 3)\n",
      "(394, 3) (31, 3)\n",
      "RMSLE : 0.39215061623380515\n"
     ]
    },
    {
     "name": "stderr",
     "output_type": "stream",
     "text": [
      "C:\\Users\\febrian-inspiring\\miniconda3\\envs\\deeplearning\\lib\\site-packages\\statsmodels\\base\\wrapper.py:34: FutureWarning: y is a deprecated alias for endog, will be removed in version 0.11.0\n",
      "  obj = getattr(results, attr)\n",
      "C:\\Users\\febrian-inspiring\\miniconda3\\envs\\deeplearning\\lib\\site-packages\\statsmodels\\base\\wrapper.py:34: FutureWarning: y is a deprecated alias for endog, will be removed in version 0.11.0\n",
      "  obj = getattr(results, attr)\n"
     ]
    }
   ],
   "source": [
    "column1 = ['cash_in_kantor', 'cash_out_kantor', 'kas_kantor']\n",
    "column2 = ['cash_in_echannel', 'cash_out_echannel', 'kas_echannel']\n",
    "result1 = forecast(data, column1)\n",
    "result2 = forecast(data, column2)"
   ]
  },
  {
   "cell_type": "code",
   "execution_count": 119,
   "metadata": {},
   "outputs": [],
   "source": [
    "submission = pd.concat([result1.pred.kas_kantor, result2.pred.kas_echannel])\n",
    "submission = submission.values"
   ]
  },
  {
   "cell_type": "code",
   "execution_count": 132,
   "metadata": {},
   "outputs": [
    {
     "data": {
      "text/html": [
       "<div>\n",
       "<style scoped>\n",
       "    .dataframe tbody tr th:only-of-type {\n",
       "        vertical-align: middle;\n",
       "    }\n",
       "\n",
       "    .dataframe tbody tr th {\n",
       "        vertical-align: top;\n",
       "    }\n",
       "\n",
       "    .dataframe thead th {\n",
       "        text-align: right;\n",
       "    }\n",
       "</style>\n",
       "<table border=\"1\" class=\"dataframe\">\n",
       "  <thead>\n",
       "    <tr style=\"text-align: right;\">\n",
       "      <th></th>\n",
       "      <th>index</th>\n",
       "      <th>value</th>\n",
       "    </tr>\n",
       "  </thead>\n",
       "  <tbody>\n",
       "    <tr>\n",
       "      <th>0</th>\n",
       "      <td>0</td>\n",
       "      <td>1.051191e+13</td>\n",
       "    </tr>\n",
       "    <tr>\n",
       "      <th>1</th>\n",
       "      <td>1</td>\n",
       "      <td>1.053540e+13</td>\n",
       "    </tr>\n",
       "    <tr>\n",
       "      <th>2</th>\n",
       "      <td>2</td>\n",
       "      <td>1.055896e+13</td>\n",
       "    </tr>\n",
       "    <tr>\n",
       "      <th>3</th>\n",
       "      <td>3</td>\n",
       "      <td>1.058262e+13</td>\n",
       "    </tr>\n",
       "    <tr>\n",
       "      <th>4</th>\n",
       "      <td>4</td>\n",
       "      <td>1.060628e+13</td>\n",
       "    </tr>\n",
       "    <tr>\n",
       "      <th>...</th>\n",
       "      <td>...</td>\n",
       "      <td>...</td>\n",
       "    </tr>\n",
       "    <tr>\n",
       "      <th>57</th>\n",
       "      <td>57</td>\n",
       "      <td>3.646673e+09</td>\n",
       "    </tr>\n",
       "    <tr>\n",
       "      <th>58</th>\n",
       "      <td>58</td>\n",
       "      <td>3.645623e+09</td>\n",
       "    </tr>\n",
       "    <tr>\n",
       "      <th>59</th>\n",
       "      <td>59</td>\n",
       "      <td>3.644781e+09</td>\n",
       "    </tr>\n",
       "    <tr>\n",
       "      <th>60</th>\n",
       "      <td>60</td>\n",
       "      <td>3.644105e+09</td>\n",
       "    </tr>\n",
       "    <tr>\n",
       "      <th>61</th>\n",
       "      <td>61</td>\n",
       "      <td>3.643563e+09</td>\n",
       "    </tr>\n",
       "  </tbody>\n",
       "</table>\n",
       "<p>62 rows × 2 columns</p>\n",
       "</div>"
      ],
      "text/plain": [
       "    index         value\n",
       "0       0  1.051191e+13\n",
       "1       1  1.053540e+13\n",
       "2       2  1.055896e+13\n",
       "3       3  1.058262e+13\n",
       "4       4  1.060628e+13\n",
       "..    ...           ...\n",
       "57     57  3.646673e+09\n",
       "58     58  3.645623e+09\n",
       "59     59  3.644781e+09\n",
       "60     60  3.644105e+09\n",
       "61     61  3.643563e+09\n",
       "\n",
       "[62 rows x 2 columns]"
      ]
     },
     "execution_count": 132,
     "metadata": {},
     "output_type": "execute_result"
    }
   ],
   "source": [
    "data_submission = pd.read_csv('sample_submission.csv')\n",
    "data_submission['value'] = submission"
   ]
  },
  {
   "cell_type": "code",
   "execution_count": 134,
   "metadata": {},
   "outputs": [],
   "source": [
    "data_submission.to_csv('submission.csv', index = False)"
   ]
  },
  {
   "cell_type": "code",
   "execution_count": 128,
   "metadata": {},
   "outputs": [
    {
     "data": {
      "text/html": [
       "<div>\n",
       "<style scoped>\n",
       "    .dataframe tbody tr th:only-of-type {\n",
       "        vertical-align: middle;\n",
       "    }\n",
       "\n",
       "    .dataframe tbody tr th {\n",
       "        vertical-align: top;\n",
       "    }\n",
       "\n",
       "    .dataframe thead th {\n",
       "        text-align: right;\n",
       "    }\n",
       "</style>\n",
       "<table border=\"1\" class=\"dataframe\">\n",
       "  <thead>\n",
       "    <tr style=\"text-align: right;\">\n",
       "      <th></th>\n",
       "      <th>index</th>\n",
       "      <th>value</th>\n",
       "    </tr>\n",
       "  </thead>\n",
       "  <tbody>\n",
       "    <tr>\n",
       "      <th>0</th>\n",
       "      <td>0</td>\n",
       "      <td>1.051191e+13</td>\n",
       "    </tr>\n",
       "    <tr>\n",
       "      <th>1</th>\n",
       "      <td>1</td>\n",
       "      <td>1.053540e+13</td>\n",
       "    </tr>\n",
       "    <tr>\n",
       "      <th>2</th>\n",
       "      <td>2</td>\n",
       "      <td>1.055896e+13</td>\n",
       "    </tr>\n",
       "    <tr>\n",
       "      <th>3</th>\n",
       "      <td>3</td>\n",
       "      <td>1.058262e+13</td>\n",
       "    </tr>\n",
       "    <tr>\n",
       "      <th>4</th>\n",
       "      <td>4</td>\n",
       "      <td>1.060628e+13</td>\n",
       "    </tr>\n",
       "    <tr>\n",
       "      <th>...</th>\n",
       "      <td>...</td>\n",
       "      <td>...</td>\n",
       "    </tr>\n",
       "    <tr>\n",
       "      <th>57</th>\n",
       "      <td>57</td>\n",
       "      <td>3.646673e+09</td>\n",
       "    </tr>\n",
       "    <tr>\n",
       "      <th>58</th>\n",
       "      <td>58</td>\n",
       "      <td>3.645623e+09</td>\n",
       "    </tr>\n",
       "    <tr>\n",
       "      <th>59</th>\n",
       "      <td>59</td>\n",
       "      <td>3.644781e+09</td>\n",
       "    </tr>\n",
       "    <tr>\n",
       "      <th>60</th>\n",
       "      <td>60</td>\n",
       "      <td>3.644105e+09</td>\n",
       "    </tr>\n",
       "    <tr>\n",
       "      <th>61</th>\n",
       "      <td>61</td>\n",
       "      <td>3.643563e+09</td>\n",
       "    </tr>\n",
       "  </tbody>\n",
       "</table>\n",
       "<p>62 rows × 2 columns</p>\n",
       "</div>"
      ],
      "text/plain": [
       "    index         value\n",
       "0       0  1.051191e+13\n",
       "1       1  1.053540e+13\n",
       "2       2  1.055896e+13\n",
       "3       3  1.058262e+13\n",
       "4       4  1.060628e+13\n",
       "..    ...           ...\n",
       "57     57  3.646673e+09\n",
       "58     58  3.645623e+09\n",
       "59     59  3.644781e+09\n",
       "60     60  3.644105e+09\n",
       "61     61  3.643563e+09\n",
       "\n",
       "[62 rows x 2 columns]"
      ]
     },
     "execution_count": 128,
     "metadata": {},
     "output_type": "execute_result"
    }
   ],
   "source": [
    "data_submission"
   ]
  }
 ],
 "metadata": {
  "kernelspec": {
   "display_name": "Python 3",
   "language": "python",
   "name": "python3"
  },
  "language_info": {
   "codemirror_mode": {
    "name": "ipython",
    "version": 3
   },
   "file_extension": ".py",
   "mimetype": "text/x-python",
   "name": "python",
   "nbconvert_exporter": "python",
   "pygments_lexer": "ipython3",
   "version": "3.8.6"
  }
 },
 "nbformat": 4,
 "nbformat_minor": 4
}
