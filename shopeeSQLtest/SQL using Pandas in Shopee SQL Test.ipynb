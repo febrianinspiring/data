{
 "cells": [
  {
   "cell_type": "markdown",
   "metadata": {},
   "source": [
    "Importing Packages"
   ]
  },
  {
   "cell_type": "code",
   "execution_count": 1,
   "metadata": {},
   "outputs": [],
   "source": [
    "import pandasql.sqldf as ps"
   ]
  },
  {
   "cell_type": "markdown",
   "metadata": {},
   "source": [
    "Read Excel File"
   ]
  },
  {
   "cell_type": "code",
   "execution_count": 53,
   "metadata": {},
   "outputs": [],
   "source": [
    "instruction = pd.read_excel('Shopee ID - SQL Test - Muhammad Febriantoro.xlsx', sheet_name = 0)\n",
    "user_tab = pd.read_excel('Shopee ID - SQL Test - Muhammad Febriantoro.xlsx', sheet_name = 'user_tab')\n",
    "order_tab = pd.read_excel('Shopee ID - SQL Test - Muhammad Febriantoro.xlsx', sheet_name = 'order_tab')"
   ]
  },
  {
   "cell_type": "markdown",
   "metadata": {},
   "source": [
    "Write a SQL statement"
   ]
  },
  {
   "cell_type": "code",
   "execution_count": 71,
   "metadata": {},
   "outputs": [
    {
     "name": "stdout",
     "output_type": "stream",
     "text": [
      "      user country                 first_order\n",
      "0       37      ID  2017-01-01 00:00:00.000000\n",
      "1       27      ID  2017-01-02 00:00:00.000000\n",
      "2       20      ID  2017-01-03 00:00:00.000000\n",
      "3       25      ID  2017-01-04 00:00:00.000000\n",
      "4       26      ID  2017-01-05 00:00:00.000000\n",
      "...    ...     ...                         ...\n",
      "1059    30      VN  2017-05-28 00:00:00.000000\n",
      "1060    33      VN  2017-05-29 00:00:00.000000\n",
      "1061    19      VN  2017-05-30 00:00:00.000000\n",
      "1062    32      VN  2017-05-31 00:00:00.000000\n",
      "1063    27      VN  2017-06-01 00:00:00.000000\n",
      "\n",
      "[1064 rows x 3 columns]\n"
     ]
    }
   ],
   "source": [
    "#1) Write an SQL statement to count the number of users per country (5 marks)\n",
    "q1 = 'SELECT COUNT(userid) total_user, country FROM user_tab GROUP BY country;' #correct\n",
    "#2) Write an SQL statement to count the number of orders per country (10 marks)\n",
    "q2 = 'SELECT COUNT(ord.orderid) total_order, us.country FROM user_tab us INNER JOIN order_tab ord ON ord.userid = us.userid GROUP BY us.country;' #correct\n",
    "#3) Write an SQL statement to find the first order date of each user (10 marks)\n",
    "q3 = 'SELECT userid, MIN(order_time) min_order_time FROM order_tab GROUP BY userid' #correct\n",
    "#4) Write an SQL statement to find the number of users who made their first order in each country, each day (25 marks)\n",
    "q4 = 'SELECT COUNT(ord.userid) user, us.country, MIN(ord.order_time) first_order FROM user_tab AS us INNER JOIN order_tab ord ON  us.userid = ord.userid GROUP BY us.country, ord.order_time ORDER BY us.country, ord.order_time'\n",
    "#5) Write an SQL statement to find the first order GMV of each user. If there is a tie, use the order with the lower orderid (30 marks)\n",
    "q5 = 'SELECT us.userid user, MIN(ord.order_time) first_order, ord.gmv FROM user_tab AS us INNER JOIN order_tab AS ord ON us.userid = ord.userid GROUP BY us.userid ORDER BY us.userid DESC' #correct\n",
    "\n",
    "print(ps(q4, locals()))"
   ]
  }
 ],
 "metadata": {
  "kernelspec": {
   "display_name": "Python 3",
   "language": "python",
   "name": "python3"
  },
  "language_info": {
   "codemirror_mode": {
    "name": "ipython",
    "version": 3
   },
   "file_extension": ".py",
   "mimetype": "text/x-python",
   "name": "python",
   "nbconvert_exporter": "python",
   "pygments_lexer": "ipython3",
   "version": "3.7.4"
  }
 },
 "nbformat": 4,
 "nbformat_minor": 4
}
